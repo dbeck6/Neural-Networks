{
 "cells": [
  {
   "cell_type": "markdown",
   "metadata": {},
   "source": [
    "# David Beck CSC578-701 Final Project"
   ]
  },
  {
   "cell_type": "markdown",
   "metadata": {},
   "source": [
    "#### The goal of this final project is to use a variant of a recurrent neural network called a Long Short Term Memory (LSTM) network to forecast the temperature of the last hour of every 24 hour cycle. By using LSTM, the model designed here can map out long term dependencies and patterns to more accurately predict the target, or temperature, across the time series."
   ]
  },
  {
   "cell_type": "markdown",
   "metadata": {},
   "source": [
    "##### Set up and install all required libraries"
   ]
  },
  {
   "cell_type": "code",
   "execution_count": 1,
   "metadata": {},
   "outputs": [
    {
     "name": "stdout",
     "output_type": "stream",
     "text": [
      "Solving environment: done\n",
      "\n",
      "## Package Plan ##\n",
      "\n",
      "  environment location: /opt/anaconda3\n",
      "\n",
      "  added / updated specs: \n",
      "    - tensorflow-gpu\n",
      "\n",
      "\n",
      "The following packages will be downloaded:\n",
      "\n",
      "    package                    |            build\n",
      "    ---------------------------|-----------------\n",
      "    backports.weakref-1.0rc1   |           py36_0           7 KB  anaconda\n",
      "    cudnn-6.0.21               |                0       180.0 MB  anaconda\n",
      "    cudatoolkit-8.0            |                0       319.3 MB  anaconda\n",
      "    html5lib-0.9999999         |           py36_0         175 KB  anaconda\n",
      "    tensorflow-gpu-1.2.1       |py36cuda8.0cudnn6.0_0        90.8 MB  anaconda\n",
      "    bleach-1.5.0               |           py36_0          22 KB  anaconda\n",
      "    ------------------------------------------------------------\n",
      "                                           Total:       590.3 MB\n",
      "\n",
      "The following NEW packages will be INSTALLED:\n",
      "\n",
      "    backports.weakref: 1.0rc1-py36_0               anaconda\n",
      "    cudatoolkit:       8.0-0                       anaconda\n",
      "    cudnn:             6.0.21-0                    anaconda\n",
      "    tensorflow-gpu:    1.2.1-py36cuda8.0cudnn6.0_0 anaconda\n",
      "\n",
      "The following packages will be DOWNGRADED:\n",
      "\n",
      "    bleach:            2.1.3-py36_0                         --> 1.5.0-py36_0     anaconda\n",
      "    html5lib:          1.0.1-py36_0                         --> 0.9999999-py36_0 anaconda\n",
      "\n",
      "\n",
      "Downloading and Extracting Packages\n",
      "backports.weakref-1. | 7 KB      | ##################################### | 100% \n",
      "cudnn-6.0.21         | 180.0 MB  | ##################################### | 100% \n",
      "cudatoolkit-8.0      | 319.3 MB  | ##################################### | 100% \n",
      "html5lib-0.9999999   | 175 KB    | ##################################### | 100% \n",
      "tensorflow-gpu-1.2.1 | 90.8 MB   | ##################################### | 100% \n",
      "bleach-1.5.0         | 22 KB     | ##################################### | 100% \n",
      "Preparing transaction: done\n",
      "Verifying transaction: done\n",
      "Executing transaction: done\n",
      "Solving environment: done\n",
      "\n",
      "## Package Plan ##\n",
      "\n",
      "  environment location: /opt/anaconda3\n",
      "\n",
      "  added / updated specs: \n",
      "    - keras-gpu==2.1.5\n",
      "\n",
      "\n",
      "The following packages will be downloaded:\n",
      "\n",
      "    package                    |            build\n",
      "    ---------------------------|-----------------\n",
      "    keras-gpu-2.1.5            |           py36_0         490 KB  anaconda\n",
      "\n",
      "The following NEW packages will be INSTALLED:\n",
      "\n",
      "    keras-gpu: 2.1.5-py36_0 anaconda\n",
      "\n",
      "\n",
      "Downloading and Extracting Packages\n",
      "keras-gpu-2.1.5      | 490 KB    | ##################################### | 100% \n",
      "Preparing transaction: done\n",
      "Verifying transaction: done\n",
      "Executing transaction: done\n"
     ]
    },
    {
     "name": "stderr",
     "output_type": "stream",
     "text": [
      "/opt/anaconda3/lib/python3.6/site-packages/h5py/__init__.py:36: FutureWarning: Conversion of the second argument of issubdtype from `float` to `np.floating` is deprecated. In future, it will be treated as `np.float64 == np.dtype(float).type`.\n",
      "  from ._conv import register_converters as _register_converters\n",
      "Using TensorFlow backend.\n"
     ]
    },
    {
     "name": "stdout",
     "output_type": "stream",
     "text": [
      "2.1.5\n",
      "Solving environment: done\n",
      "\n",
      "## Package Plan ##\n",
      "\n",
      "  environment location: /opt/anaconda3\n",
      "\n",
      "  added / updated specs: \n",
      "    - pandas\n",
      "\n",
      "\n",
      "The following packages will be downloaded:\n",
      "\n",
      "    package                    |            build\n",
      "    ---------------------------|-----------------\n",
      "    pandas-0.23.4              |   py36h04863e7_0         9.1 MB  anaconda\n",
      "\n",
      "The following packages will be UPDATED:\n",
      "\n",
      "    pandas: 0.23.0-py36h637b7d7_0 --> 0.23.4-py36h04863e7_0 anaconda\n",
      "\n",
      "\n",
      "Downloading and Extracting Packages\n",
      "pandas-0.23.4        | 9.1 MB    | ##################################### | 100% \n",
      "Preparing transaction: done\n",
      "Verifying transaction: done\n",
      "Executing transaction: done\n"
     ]
    }
   ],
   "source": [
    "!conda install -c conda-forge tensorflow-gpu --yes\n",
    "!conda install -c conda-forge keras-gpu==2.1.5 --yes\n",
    "import keras; print(keras.__version__) \n",
    "!conda install -c conda-forge pandas --yes"
   ]
  },
  {
   "cell_type": "code",
   "execution_count": 2,
   "metadata": {},
   "outputs": [],
   "source": [
    "# all required libraries, packages, and functions\n",
    "import pandas as pd\n",
    "import numpy as np\n",
    "from keras.layers.core import Dense, Activation, Dropout\n",
    "from keras.layers.recurrent import LSTM\n",
    "from keras.models import Sequential\n",
    "import time\n",
    "from sklearn.metrics import mean_absolute_error\n",
    "from matplotlib import pyplot\n",
    "from sklearn.preprocessing import MinMaxScaler\n",
    "from sklearn.preprocessing import StandardScaler\n",
    "\n",
    "# settings\n",
    "import warnings\n",
    "warnings.filterwarnings(\"ignore\")"
   ]
  },
  {
   "cell_type": "markdown",
   "metadata": {},
   "source": [
    "### Load the Hourly Climate data\n",
    "##### The data provided is a paired down version of weather data set that recorded metrics every 10 minutes over the course of almost two decades. This data set has been trimmed down to the interval of 01.01.2009 to 01.01.2017 on an hourly interval per day."
   ]
  },
  {
   "cell_type": "code",
   "execution_count": 3,
   "metadata": {},
   "outputs": [
    {
     "data": {
      "text/html": [
       "<div>\n",
       "<style scoped>\n",
       "    .dataframe tbody tr th:only-of-type {\n",
       "        vertical-align: middle;\n",
       "    }\n",
       "\n",
       "    .dataframe tbody tr th {\n",
       "        vertical-align: top;\n",
       "    }\n",
       "\n",
       "    .dataframe thead th {\n",
       "        text-align: right;\n",
       "    }\n",
       "</style>\n",
       "<table border=\"1\" class=\"dataframe\">\n",
       "  <thead>\n",
       "    <tr style=\"text-align: right;\">\n",
       "      <th></th>\n",
       "      <th>Date Time</th>\n",
       "      <th>p (mbar)</th>\n",
       "      <th>T (degC)</th>\n",
       "      <th>Tpot (K)</th>\n",
       "      <th>Tdew (degC)</th>\n",
       "      <th>rh (%)</th>\n",
       "      <th>VPmax (mbar)</th>\n",
       "      <th>VPact (mbar)</th>\n",
       "      <th>VPdef (mbar)</th>\n",
       "      <th>sh (g/kg)</th>\n",
       "      <th>H2OC (mmol/mol)</th>\n",
       "      <th>rho (g/m**3)</th>\n",
       "      <th>wv (m/s)</th>\n",
       "      <th>max. wv (m/s)</th>\n",
       "      <th>wd (deg)</th>\n",
       "    </tr>\n",
       "  </thead>\n",
       "  <tbody>\n",
       "    <tr>\n",
       "      <th>70032</th>\n",
       "      <td>31.12.2016 20:00:00</td>\n",
       "      <td>1001.47</td>\n",
       "      <td>-1.52</td>\n",
       "      <td>271.52</td>\n",
       "      <td>-7.13</td>\n",
       "      <td>65.42</td>\n",
       "      <td>5.46</td>\n",
       "      <td>3.57</td>\n",
       "      <td>1.89</td>\n",
       "      <td>2.22</td>\n",
       "      <td>3.57</td>\n",
       "      <td>1282.60</td>\n",
       "      <td>1.24</td>\n",
       "      <td>1.96</td>\n",
       "      <td>232.00</td>\n",
       "    </tr>\n",
       "    <tr>\n",
       "      <th>70033</th>\n",
       "      <td>31.12.2016 21:00:00</td>\n",
       "      <td>1001.29</td>\n",
       "      <td>-3.09</td>\n",
       "      <td>269.98</td>\n",
       "      <td>-7.09</td>\n",
       "      <td>73.70</td>\n",
       "      <td>4.86</td>\n",
       "      <td>3.58</td>\n",
       "      <td>1.28</td>\n",
       "      <td>2.23</td>\n",
       "      <td>3.58</td>\n",
       "      <td>1289.78</td>\n",
       "      <td>0.61</td>\n",
       "      <td>1.48</td>\n",
       "      <td>207.50</td>\n",
       "    </tr>\n",
       "    <tr>\n",
       "      <th>70034</th>\n",
       "      <td>31.12.2016 22:00:00</td>\n",
       "      <td>1000.70</td>\n",
       "      <td>-2.59</td>\n",
       "      <td>270.51</td>\n",
       "      <td>-7.04</td>\n",
       "      <td>71.30</td>\n",
       "      <td>5.04</td>\n",
       "      <td>3.60</td>\n",
       "      <td>1.45</td>\n",
       "      <td>2.24</td>\n",
       "      <td>3.59</td>\n",
       "      <td>1286.67</td>\n",
       "      <td>0.38</td>\n",
       "      <td>0.72</td>\n",
       "      <td>8.15</td>\n",
       "    </tr>\n",
       "    <tr>\n",
       "      <th>70035</th>\n",
       "      <td>31.12.2016 23:00:00</td>\n",
       "      <td>1000.21</td>\n",
       "      <td>-3.76</td>\n",
       "      <td>269.39</td>\n",
       "      <td>-7.95</td>\n",
       "      <td>72.50</td>\n",
       "      <td>4.62</td>\n",
       "      <td>3.35</td>\n",
       "      <td>1.27</td>\n",
       "      <td>2.09</td>\n",
       "      <td>3.35</td>\n",
       "      <td>1291.71</td>\n",
       "      <td>0.89</td>\n",
       "      <td>1.30</td>\n",
       "      <td>223.70</td>\n",
       "    </tr>\n",
       "    <tr>\n",
       "      <th>70036</th>\n",
       "      <td>01.01.2017 00:00:00</td>\n",
       "      <td>999.82</td>\n",
       "      <td>-4.82</td>\n",
       "      <td>268.36</td>\n",
       "      <td>-8.42</td>\n",
       "      <td>75.70</td>\n",
       "      <td>4.27</td>\n",
       "      <td>3.23</td>\n",
       "      <td>1.04</td>\n",
       "      <td>2.01</td>\n",
       "      <td>3.23</td>\n",
       "      <td>1296.38</td>\n",
       "      <td>1.23</td>\n",
       "      <td>1.96</td>\n",
       "      <td>184.90</td>\n",
       "    </tr>\n",
       "  </tbody>\n",
       "</table>\n",
       "</div>"
      ],
      "text/plain": [
       "                 Date Time  p (mbar)  T (degC)  Tpot (K)  Tdew (degC)  rh (%)  \\\n",
       "70032  31.12.2016 20:00:00   1001.47     -1.52    271.52        -7.13   65.42   \n",
       "70033  31.12.2016 21:00:00   1001.29     -3.09    269.98        -7.09   73.70   \n",
       "70034  31.12.2016 22:00:00   1000.70     -2.59    270.51        -7.04   71.30   \n",
       "70035  31.12.2016 23:00:00   1000.21     -3.76    269.39        -7.95   72.50   \n",
       "70036  01.01.2017 00:00:00    999.82     -4.82    268.36        -8.42   75.70   \n",
       "\n",
       "       VPmax (mbar)  VPact (mbar)  VPdef (mbar)  sh (g/kg)  H2OC (mmol/mol)  \\\n",
       "70032          5.46          3.57          1.89       2.22             3.57   \n",
       "70033          4.86          3.58          1.28       2.23             3.58   \n",
       "70034          5.04          3.60          1.45       2.24             3.59   \n",
       "70035          4.62          3.35          1.27       2.09             3.35   \n",
       "70036          4.27          3.23          1.04       2.01             3.23   \n",
       "\n",
       "       rho (g/m**3)  wv (m/s)  max. wv (m/s)  wd (deg)  \n",
       "70032       1282.60      1.24           1.96    232.00  \n",
       "70033       1289.78      0.61           1.48    207.50  \n",
       "70034       1286.67      0.38           0.72      8.15  \n",
       "70035       1291.71      0.89           1.30    223.70  \n",
       "70036       1296.38      1.23           1.96    184.90  "
      ]
     },
     "execution_count": 3,
     "metadata": {},
     "output_type": "execute_result"
    }
   ],
   "source": [
    "series = pd.read_csv(\"/resources/data/climate_hour.csv\", header=0)\n",
    "series.tail()"
   ]
  },
  {
   "cell_type": "markdown",
   "metadata": {},
   "source": [
    "### Clean data\n",
    "#### As the date stamps are not a good indicator for predication, this variable is removed and saved for later output to csv file. The target variable, temperature, is moved to the end of the dataframe for ease of access."
   ]
  },
  {
   "cell_type": "code",
   "execution_count": 4,
   "metadata": {},
   "outputs": [
    {
     "name": "stdout",
     "output_type": "stream",
     "text": [
      "(70037,)\n",
      "(70037, 14)\n"
     ]
    }
   ],
   "source": [
    "# save Date Time stamps and drop them from the data set\n",
    "dates = series['Date Time']\n",
    "# replace ' ' with '_' in Date Time\n",
    "dates = dates.str.replace(' ', '_', regex=True)\n",
    "print(dates.shape)\n",
    "series.drop('Date Time', axis=1, inplace=True)\n",
    "# move target variable to end of data set\n",
    "target = series['T (degC)']\n",
    "series.drop('T (degC)', axis=1, inplace=True)\n",
    "series = pd.concat((series, target), axis=1)\n",
    "print(series.shape)"
   ]
  },
  {
   "cell_type": "code",
   "execution_count": 5,
   "metadata": {},
   "outputs": [
    {
     "data": {
      "text/html": [
       "<div>\n",
       "<style scoped>\n",
       "    .dataframe tbody tr th:only-of-type {\n",
       "        vertical-align: middle;\n",
       "    }\n",
       "\n",
       "    .dataframe tbody tr th {\n",
       "        vertical-align: top;\n",
       "    }\n",
       "\n",
       "    .dataframe thead th {\n",
       "        text-align: right;\n",
       "    }\n",
       "</style>\n",
       "<table border=\"1\" class=\"dataframe\">\n",
       "  <thead>\n",
       "    <tr style=\"text-align: right;\">\n",
       "      <th></th>\n",
       "      <th>p (mbar)</th>\n",
       "      <th>Tpot (K)</th>\n",
       "      <th>Tdew (degC)</th>\n",
       "      <th>rh (%)</th>\n",
       "      <th>VPmax (mbar)</th>\n",
       "      <th>VPact (mbar)</th>\n",
       "      <th>VPdef (mbar)</th>\n",
       "      <th>sh (g/kg)</th>\n",
       "      <th>H2OC (mmol/mol)</th>\n",
       "      <th>rho (g/m**3)</th>\n",
       "      <th>wv (m/s)</th>\n",
       "      <th>max. wv (m/s)</th>\n",
       "      <th>wd (deg)</th>\n",
       "      <th>T (degC)</th>\n",
       "    </tr>\n",
       "  </thead>\n",
       "  <tbody>\n",
       "    <tr>\n",
       "      <th>0</th>\n",
       "      <td>996.50</td>\n",
       "      <td>265.38</td>\n",
       "      <td>-8.78</td>\n",
       "      <td>94.4</td>\n",
       "      <td>3.33</td>\n",
       "      <td>3.14</td>\n",
       "      <td>0.19</td>\n",
       "      <td>1.96</td>\n",
       "      <td>3.15</td>\n",
       "      <td>1307.86</td>\n",
       "      <td>0.21</td>\n",
       "      <td>0.63</td>\n",
       "      <td>192.7</td>\n",
       "      <td>-8.05</td>\n",
       "    </tr>\n",
       "    <tr>\n",
       "      <th>1</th>\n",
       "      <td>996.62</td>\n",
       "      <td>264.54</td>\n",
       "      <td>-9.77</td>\n",
       "      <td>93.2</td>\n",
       "      <td>3.12</td>\n",
       "      <td>2.90</td>\n",
       "      <td>0.21</td>\n",
       "      <td>1.81</td>\n",
       "      <td>2.91</td>\n",
       "      <td>1312.25</td>\n",
       "      <td>0.25</td>\n",
       "      <td>0.63</td>\n",
       "      <td>190.3</td>\n",
       "      <td>-8.88</td>\n",
       "    </tr>\n",
       "    <tr>\n",
       "      <th>2</th>\n",
       "      <td>996.84</td>\n",
       "      <td>264.59</td>\n",
       "      <td>-9.66</td>\n",
       "      <td>93.5</td>\n",
       "      <td>3.13</td>\n",
       "      <td>2.93</td>\n",
       "      <td>0.20</td>\n",
       "      <td>1.83</td>\n",
       "      <td>2.94</td>\n",
       "      <td>1312.18</td>\n",
       "      <td>0.18</td>\n",
       "      <td>0.63</td>\n",
       "      <td>167.2</td>\n",
       "      <td>-8.81</td>\n",
       "    </tr>\n",
       "    <tr>\n",
       "      <th>3</th>\n",
       "      <td>996.99</td>\n",
       "      <td>264.34</td>\n",
       "      <td>-10.02</td>\n",
       "      <td>92.6</td>\n",
       "      <td>3.07</td>\n",
       "      <td>2.85</td>\n",
       "      <td>0.23</td>\n",
       "      <td>1.78</td>\n",
       "      <td>2.85</td>\n",
       "      <td>1313.61</td>\n",
       "      <td>0.10</td>\n",
       "      <td>0.38</td>\n",
       "      <td>240.0</td>\n",
       "      <td>-9.05</td>\n",
       "    </tr>\n",
       "    <tr>\n",
       "      <th>4</th>\n",
       "      <td>997.46</td>\n",
       "      <td>263.72</td>\n",
       "      <td>-10.65</td>\n",
       "      <td>92.2</td>\n",
       "      <td>2.94</td>\n",
       "      <td>2.71</td>\n",
       "      <td>0.23</td>\n",
       "      <td>1.69</td>\n",
       "      <td>2.71</td>\n",
       "      <td>1317.19</td>\n",
       "      <td>0.40</td>\n",
       "      <td>0.88</td>\n",
       "      <td>157.0</td>\n",
       "      <td>-9.63</td>\n",
       "    </tr>\n",
       "  </tbody>\n",
       "</table>\n",
       "</div>"
      ],
      "text/plain": [
       "   p (mbar)  Tpot (K)  Tdew (degC)  rh (%)  VPmax (mbar)  VPact (mbar)  \\\n",
       "0    996.50    265.38        -8.78    94.4          3.33          3.14   \n",
       "1    996.62    264.54        -9.77    93.2          3.12          2.90   \n",
       "2    996.84    264.59        -9.66    93.5          3.13          2.93   \n",
       "3    996.99    264.34       -10.02    92.6          3.07          2.85   \n",
       "4    997.46    263.72       -10.65    92.2          2.94          2.71   \n",
       "\n",
       "   VPdef (mbar)  sh (g/kg)  H2OC (mmol/mol)  rho (g/m**3)  wv (m/s)  \\\n",
       "0          0.19       1.96             3.15       1307.86      0.21   \n",
       "1          0.21       1.81             2.91       1312.25      0.25   \n",
       "2          0.20       1.83             2.94       1312.18      0.18   \n",
       "3          0.23       1.78             2.85       1313.61      0.10   \n",
       "4          0.23       1.69             2.71       1317.19      0.40   \n",
       "\n",
       "   max. wv (m/s)  wd (deg)  T (degC)  \n",
       "0           0.63     192.7     -8.05  \n",
       "1           0.63     190.3     -8.88  \n",
       "2           0.63     167.2     -8.81  \n",
       "3           0.38     240.0     -9.05  \n",
       "4           0.88     157.0     -9.63  "
      ]
     },
     "execution_count": 5,
     "metadata": {},
     "output_type": "execute_result"
    }
   ],
   "source": [
    "series.head()"
   ]
  },
  {
   "cell_type": "markdown",
   "metadata": {},
   "source": [
    "### Plot all attribute values of the data set"
   ]
  },
  {
   "cell_type": "code",
   "execution_count": 6,
   "metadata": {},
   "outputs": [
    {
     "data": {
      "image/png": "[encoded data removed]",
      "text/plain": [
       "<Figure size 720x720 with 14 Axes>"
      ]
     },
     "metadata": {},
     "output_type": "display_data"
    }
   ],
   "source": [
    "values = series.values\n",
    "# specify columns to plot\n",
    "groups = range(0, 14)\n",
    "i = 1\n",
    "# plot each column\n",
    "pyplot.figure(figsize=(10,10))\n",
    "for group in groups:\n",
    "    pyplot.subplot(len(groups), 1, i)\n",
    "    pyplot.plot(values[:, group])\n",
    "    pyplot.title(series.columns[group], y=0.5, loc='right')\n",
    "    i += 1\n",
    "pyplot.show()"
   ]
  },
  {
   "cell_type": "markdown",
   "metadata": {},
   "source": [
    "### Transform data to show 24 hour intervals\n",
    "#### Here is where we create the time series windows that will be input into the LSTM model. Each single instance in the original dataframe becomes a series of 24 instances that start with itself and the 23 instances that follow it. As the dataframe is shifted, nan-values will inserted when the values do not match up. All instances with nan-values will be dropped at the end."
   ]
  },
  {
   "cell_type": "code",
   "execution_count": 7,
   "metadata": {},
   "outputs": [],
   "source": [
    "# create the time series window\n",
    "window_size = 23\n",
    "# transform data set to include new time series data\n",
    "series_s = series.copy()\n",
    "for i in range(window_size):\n",
    "    series = pd.concat([series, series_s.shift(-(i+1))], axis = 1)\n",
    "series.dropna(axis=0, inplace=True)"
   ]
  },
  {
   "cell_type": "code",
   "execution_count": 8,
   "metadata": {},
   "outputs": [
    {
     "data": {
      "text/plain": [
       "(70014, 336)"
      ]
     },
     "execution_count": 8,
     "metadata": {},
     "output_type": "execute_result"
    }
   ],
   "source": [
    "series.shape"
   ]
  },
  {
   "cell_type": "code",
   "execution_count": 9,
   "metadata": {},
   "outputs": [
    {
     "data": {
      "text/html": [
       "<div>\n",
       "<style scoped>\n",
       "    .dataframe tbody tr th:only-of-type {\n",
       "        vertical-align: middle;\n",
       "    }\n",
       "\n",
       "    .dataframe tbody tr th {\n",
       "        vertical-align: top;\n",
       "    }\n",
       "\n",
       "    .dataframe thead th {\n",
       "        text-align: right;\n",
       "    }\n",
       "</style>\n",
       "<table border=\"1\" class=\"dataframe\">\n",
       "  <thead>\n",
       "    <tr style=\"text-align: right;\">\n",
       "      <th></th>\n",
       "      <th>p (mbar)</th>\n",
       "      <th>Tpot (K)</th>\n",
       "      <th>Tdew (degC)</th>\n",
       "      <th>rh (%)</th>\n",
       "      <th>VPmax (mbar)</th>\n",
       "      <th>VPact (mbar)</th>\n",
       "      <th>VPdef (mbar)</th>\n",
       "      <th>sh (g/kg)</th>\n",
       "      <th>H2OC (mmol/mol)</th>\n",
       "      <th>rho (g/m**3)</th>\n",
       "      <th>...</th>\n",
       "      <th>VPmax (mbar)</th>\n",
       "      <th>VPact (mbar)</th>\n",
       "      <th>VPdef (mbar)</th>\n",
       "      <th>sh (g/kg)</th>\n",
       "      <th>H2OC (mmol/mol)</th>\n",
       "      <th>rho (g/m**3)</th>\n",
       "      <th>wv (m/s)</th>\n",
       "      <th>max. wv (m/s)</th>\n",
       "      <th>wd (deg)</th>\n",
       "      <th>T (degC)</th>\n",
       "    </tr>\n",
       "  </thead>\n",
       "  <tbody>\n",
       "    <tr>\n",
       "      <th>70009</th>\n",
       "      <td>1009.24</td>\n",
       "      <td>270.24</td>\n",
       "      <td>-3.75</td>\n",
       "      <td>89.1</td>\n",
       "      <td>5.19</td>\n",
       "      <td>4.62</td>\n",
       "      <td>0.57</td>\n",
       "      <td>2.86</td>\n",
       "      <td>4.58</td>\n",
       "      <td>1295.33</td>\n",
       "      <td>...</td>\n",
       "      <td>5.46</td>\n",
       "      <td>3.57</td>\n",
       "      <td>1.89</td>\n",
       "      <td>2.22</td>\n",
       "      <td>3.57</td>\n",
       "      <td>1282.60</td>\n",
       "      <td>1.24</td>\n",
       "      <td>1.96</td>\n",
       "      <td>232.00</td>\n",
       "      <td>-1.52</td>\n",
       "    </tr>\n",
       "    <tr>\n",
       "      <th>70010</th>\n",
       "      <td>1008.93</td>\n",
       "      <td>269.84</td>\n",
       "      <td>-4.99</td>\n",
       "      <td>83.7</td>\n",
       "      <td>5.03</td>\n",
       "      <td>4.21</td>\n",
       "      <td>0.82</td>\n",
       "      <td>2.60</td>\n",
       "      <td>4.17</td>\n",
       "      <td>1297.15</td>\n",
       "      <td>...</td>\n",
       "      <td>4.86</td>\n",
       "      <td>3.58</td>\n",
       "      <td>1.28</td>\n",
       "      <td>2.23</td>\n",
       "      <td>3.58</td>\n",
       "      <td>1289.78</td>\n",
       "      <td>0.61</td>\n",
       "      <td>1.48</td>\n",
       "      <td>207.50</td>\n",
       "      <td>-3.09</td>\n",
       "    </tr>\n",
       "    <tr>\n",
       "      <th>70011</th>\n",
       "      <td>1008.82</td>\n",
       "      <td>269.50</td>\n",
       "      <td>-4.85</td>\n",
       "      <td>86.9</td>\n",
       "      <td>4.90</td>\n",
       "      <td>4.26</td>\n",
       "      <td>0.64</td>\n",
       "      <td>2.63</td>\n",
       "      <td>4.22</td>\n",
       "      <td>1298.68</td>\n",
       "      <td>...</td>\n",
       "      <td>5.04</td>\n",
       "      <td>3.60</td>\n",
       "      <td>1.45</td>\n",
       "      <td>2.24</td>\n",
       "      <td>3.59</td>\n",
       "      <td>1286.67</td>\n",
       "      <td>0.38</td>\n",
       "      <td>0.72</td>\n",
       "      <td>8.15</td>\n",
       "      <td>-2.59</td>\n",
       "    </tr>\n",
       "    <tr>\n",
       "      <th>70012</th>\n",
       "      <td>1008.67</td>\n",
       "      <td>268.41</td>\n",
       "      <td>-5.22</td>\n",
       "      <td>91.8</td>\n",
       "      <td>4.51</td>\n",
       "      <td>4.14</td>\n",
       "      <td>0.37</td>\n",
       "      <td>2.56</td>\n",
       "      <td>4.10</td>\n",
       "      <td>1303.88</td>\n",
       "      <td>...</td>\n",
       "      <td>4.62</td>\n",
       "      <td>3.35</td>\n",
       "      <td>1.27</td>\n",
       "      <td>2.09</td>\n",
       "      <td>3.35</td>\n",
       "      <td>1291.71</td>\n",
       "      <td>0.89</td>\n",
       "      <td>1.30</td>\n",
       "      <td>223.70</td>\n",
       "      <td>-3.76</td>\n",
       "    </tr>\n",
       "    <tr>\n",
       "      <th>70013</th>\n",
       "      <td>1008.18</td>\n",
       "      <td>268.23</td>\n",
       "      <td>-6.80</td>\n",
       "      <td>82.6</td>\n",
       "      <td>4.44</td>\n",
       "      <td>3.67</td>\n",
       "      <td>0.77</td>\n",
       "      <td>2.26</td>\n",
       "      <td>3.64</td>\n",
       "      <td>1304.50</td>\n",
       "      <td>...</td>\n",
       "      <td>4.27</td>\n",
       "      <td>3.23</td>\n",
       "      <td>1.04</td>\n",
       "      <td>2.01</td>\n",
       "      <td>3.23</td>\n",
       "      <td>1296.38</td>\n",
       "      <td>1.23</td>\n",
       "      <td>1.96</td>\n",
       "      <td>184.90</td>\n",
       "      <td>-4.82</td>\n",
       "    </tr>\n",
       "  </tbody>\n",
       "</table>\n",
       "<p>5 rows × 336 columns</p>\n",
       "</div>"
      ],
      "text/plain": [
       "       p (mbar)  Tpot (K)  Tdew (degC)  rh (%)  VPmax (mbar)  VPact (mbar)  \\\n",
       "70009   1009.24    270.24        -3.75    89.1          5.19          4.62   \n",
       "70010   1008.93    269.84        -4.99    83.7          5.03          4.21   \n",
       "70011   1008.82    269.50        -4.85    86.9          4.90          4.26   \n",
       "70012   1008.67    268.41        -5.22    91.8          4.51          4.14   \n",
       "70013   1008.18    268.23        -6.80    82.6          4.44          3.67   \n",
       "\n",
       "       VPdef (mbar)  sh (g/kg)  H2OC (mmol/mol)  rho (g/m**3)    ...     \\\n",
       "70009          0.57       2.86             4.58       1295.33    ...      \n",
       "70010          0.82       2.60             4.17       1297.15    ...      \n",
       "70011          0.64       2.63             4.22       1298.68    ...      \n",
       "70012          0.37       2.56             4.10       1303.88    ...      \n",
       "70013          0.77       2.26             3.64       1304.50    ...      \n",
       "\n",
       "       VPmax (mbar)  VPact (mbar)  VPdef (mbar)  sh (g/kg)  H2OC (mmol/mol)  \\\n",
       "70009          5.46          3.57          1.89       2.22             3.57   \n",
       "70010          4.86          3.58          1.28       2.23             3.58   \n",
       "70011          5.04          3.60          1.45       2.24             3.59   \n",
       "70012          4.62          3.35          1.27       2.09             3.35   \n",
       "70013          4.27          3.23          1.04       2.01             3.23   \n",
       "\n",
       "       rho (g/m**3)  wv (m/s)  max. wv (m/s)  wd (deg)  T (degC)  \n",
       "70009       1282.60      1.24           1.96    232.00     -1.52  \n",
       "70010       1289.78      0.61           1.48    207.50     -3.09  \n",
       "70011       1286.67      0.38           0.72      8.15     -2.59  \n",
       "70012       1291.71      0.89           1.30    223.70     -3.76  \n",
       "70013       1296.38      1.23           1.96    184.90     -4.82  \n",
       "\n",
       "[5 rows x 336 columns]"
      ]
     },
     "execution_count": 9,
     "metadata": {},
     "output_type": "execute_result"
    }
   ],
   "source": [
    "series.tail()"
   ]
  },
  {
   "cell_type": "markdown",
   "metadata": {},
   "source": [
    "### Create and apply MinMax Scaling\n",
    "#### Normalizing the values will aid in reducing the noisiness of data thereby allowing for more accurate predications. Of course, these values will need to be transformed back once the predication have been made."
   ]
  },
  {
   "cell_type": "code",
   "execution_count": 10,
   "metadata": {},
   "outputs": [],
   "source": [
    "# normalize features\n",
    "scaler = MinMaxScaler(feature_range=(0, 1))\n",
    "scaled = scaler.fit_transform(series.values)\n",
    "series = pd.DataFrame(scaled)"
   ]
  },
  {
   "cell_type": "markdown",
   "metadata": {},
   "source": [
    "### Define targets for training & test sets"
   ]
  },
  {
   "cell_type": "code",
   "execution_count": 11,
   "metadata": {},
   "outputs": [
    {
     "data": {
      "text/plain": [
       "(52542, 1)"
      ]
     },
     "execution_count": 11,
     "metadata": {},
     "output_type": "execute_result"
    }
   ],
   "source": [
    "# training target\n",
    "#y_train = series.iloc[1:52543,323:324].values\n",
    "y_train = series.iloc[1:52543,-1:].values\n",
    "y_train.shape"
   ]
  },
  {
   "cell_type": "code",
   "execution_count": 12,
   "metadata": {},
   "outputs": [
    {
     "data": {
      "text/plain": [
       "array([[0.30512991],\n",
       "       [0.30762825],\n",
       "       [0.30496336]])"
      ]
     },
     "execution_count": 12,
     "metadata": {},
     "output_type": "execute_result"
    }
   ],
   "source": [
    "# first row is 02.01.2009 01:00:00\n",
    "y_train[:3]"
   ]
  },
  {
   "cell_type": "code",
   "execution_count": 13,
   "metadata": {},
   "outputs": [
    {
     "data": {
      "text/plain": [
       "array([[0.41172552],\n",
       "       [0.41139241],\n",
       "       [0.41538974]])"
      ]
     },
     "execution_count": 13,
     "metadata": {},
     "output_type": "execute_result"
    }
   ],
   "source": [
    "# last row is 31.12.2014 23:00:00]\n",
    "y_train[-3:]"
   ]
  },
  {
   "cell_type": "code",
   "execution_count": 14,
   "metadata": {},
   "outputs": [
    {
     "data": {
      "text/plain": [
       "(17471, 1)"
      ]
     },
     "execution_count": 14,
     "metadata": {},
     "output_type": "execute_result"
    }
   ],
   "source": [
    "# test target\n",
    "y_test = series.iloc[52543:,-1:].values\n",
    "y_test.shape"
   ]
  },
  {
   "cell_type": "code",
   "execution_count": 15,
   "metadata": {},
   "outputs": [
    {
     "data": {
      "text/plain": [
       "array([[0.41339107],\n",
       "       [0.41605596],\n",
       "       [0.41305796]])"
      ]
     },
     "execution_count": 15,
     "metadata": {},
     "output_type": "execute_result"
    }
   ],
   "source": [
    "# first row is 01.01.2015 00:00:00\n",
    "y_test[:3]"
   ]
  },
  {
   "cell_type": "code",
   "execution_count": 16,
   "metadata": {},
   "outputs": [
    {
     "data": {
      "text/plain": [
       "array([[0.3359427],\n",
       "       [0.3164557],\n",
       "       [0.2988008]])"
      ]
     },
     "execution_count": 16,
     "metadata": {},
     "output_type": "execute_result"
    }
   ],
   "source": [
    "# last row is 01.01.2017 00:00:00\n",
    "y_test[-3:]"
   ]
  },
  {
   "cell_type": "markdown",
   "metadata": {},
   "source": [
    "### Define training & test sets"
   ]
  },
  {
   "cell_type": "code",
   "execution_count": 17,
   "metadata": {},
   "outputs": [
    {
     "name": "stdout",
     "output_type": "stream",
     "text": [
      "(52542, 336)\n"
     ]
    },
    {
     "data": {
      "text/plain": [
       "array([[0.80586837, 0.24072233, 0.33556766, ..., 0.99805875, 0.43055556,\n",
       "        0.30346436],\n",
       "       [0.80710817, 0.22680583, 0.31483033, ..., 0.99807073, 0.41138889,\n",
       "        0.30512991],\n",
       "       [0.80938113, 0.22763419, 0.31713448, ..., 0.99805875, 0.58277778,\n",
       "        0.30762825]])"
      ]
     },
     "execution_count": 17,
     "metadata": {},
     "output_type": "execute_result"
    }
   ],
   "source": [
    "# training data set\n",
    "x_train = series[:52542].values\n",
    "print(x_train.shape)\n",
    "# first row is from 01.01.2009 01:00:00 to 02.01.2009 00:00:00 (both inclusive)\n",
    "x_train[:3]"
   ]
  },
  {
   "cell_type": "code",
   "execution_count": 18,
   "metadata": {},
   "outputs": [
    {
     "data": {
      "text/plain": [
       "array([[0.88810828, 0.38916501, 0.53246753, ..., 0.9981386 , 0.33138889,\n",
       "        0.41472352],\n",
       "       [0.885732  , 0.38833665, 0.53037285, ..., 0.99812662, 0.40361111,\n",
       "        0.41172552],\n",
       "       [0.88748838, 0.38817097, 0.52576456, ..., 0.99815057, 0.36      ,\n",
       "        0.41139241]])"
      ]
     },
     "execution_count": 18,
     "metadata": {},
     "output_type": "execute_result"
    }
   ],
   "source": [
    "# last row is from 30.12.2014 23:00:00 to 31.12.2014 22:00:00 (both inclusive)\n",
    "x_train[-3:]"
   ]
  },
  {
   "cell_type": "code",
   "execution_count": 19,
   "metadata": {},
   "outputs": [
    {
     "name": "stdout",
     "output_type": "stream",
     "text": [
      "(17471, 336)\n"
     ]
    }
   ],
   "source": [
    "# test data set\n",
    "x_test = series[52542:-1].values\n",
    "# remove 01.01.2017 01:00:00 instance from x_test\n",
    "print(x_test.shape)"
   ]
  },
  {
   "cell_type": "code",
   "execution_count": 20,
   "metadata": {},
   "outputs": [
    {
     "data": {
      "text/plain": [
       "array([[0.88955471, 0.38899934, 0.52115626, ..., 0.99805676, 0.39111111,\n",
       "        0.41538974],\n",
       "       [0.88666185, 0.38767396, 0.51131127, ..., 0.99806274, 0.76055556,\n",
       "        0.41339107],\n",
       "       [0.88604195, 0.39032472, 0.50858819, ..., 0.99805875, 0.33083333,\n",
       "        0.41605596]])"
      ]
     },
     "execution_count": 20,
     "metadata": {},
     "output_type": "execute_result"
    }
   ],
   "source": [
    "# first row is from 31.12.2014 00:00:00 to 31.12.2014 23:00:00 (both inclusive)\n",
    "x_test[:3]"
   ]
  },
  {
   "cell_type": "code",
   "execution_count": 21,
   "metadata": {},
   "outputs": [
    {
     "data": {
      "text/plain": [
       "array([[0.93429073, 0.31461233, 0.41495601, ..., 0.99811864, 0.57638889,\n",
       "        0.32761492],\n",
       "       [0.93315425, 0.30897946, 0.41788856, ..., 0.99804278, 0.02263889,\n",
       "        0.3359427 ],\n",
       "       [0.9316045 , 0.29092114, 0.41013825, ..., 0.99810067, 0.62138889,\n",
       "        0.3164557 ]])"
      ]
     },
     "execution_count": 21,
     "metadata": {},
     "output_type": "execute_result"
    }
   ],
   "source": [
    "# last row is from 31.12.2016 00:00:00 to 31.12.2016 23:00:00 (both inclusive)\n",
    "x_test[-3:]"
   ]
  },
  {
   "cell_type": "code",
   "execution_count": 22,
   "metadata": {},
   "outputs": [
    {
     "name": "stdout",
     "output_type": "stream",
     "text": [
      "(52542, 24, 14) (52542, 1) (17471, 24, 14) (17471, 1)\n"
     ]
    }
   ],
   "source": [
    "# reshape input to be 3D [samples, timesteps, features]\n",
    "#batch_size = 1\n",
    "timesteps = 24\n",
    "data_dim = 14\n",
    "x_train = x_train.reshape((x_train.shape[0], timesteps, data_dim))\n",
    "x_test = x_test.reshape((x_test.shape[0], timesteps, data_dim))\n",
    "print(x_train.shape, y_train.shape, x_test.shape, y_test.shape)"
   ]
  },
  {
   "cell_type": "markdown",
   "metadata": {},
   "source": [
    "### Model\n",
    "#### After numerous trials with a stateful LSTM model, I settled on the below configuration as it gave fairly good predications judging from the Mean Absolute Error values. The highest run returned a score of 0.49.. at 30 epochs."
   ]
  },
  {
   "cell_type": "code",
   "execution_count": 23,
   "metadata": {},
   "outputs": [
    {
     "name": "stdout",
     "output_type": "stream",
     "text": [
      "_________________________________________________________________\n",
      "Layer (type)                 Output Shape              Param #   \n",
      "=================================================================\n",
      "lstm_1 (LSTM)                (None, 24, 32)            6016      \n",
      "_________________________________________________________________\n",
      "lstm_2 (LSTM)                (None, 24, 32)            8320      \n",
      "_________________________________________________________________\n",
      "lstm_3 (LSTM)                (None, 32)                8320      \n",
      "_________________________________________________________________\n",
      "dropout_1 (Dropout)          (None, 32)                0         \n",
      "_________________________________________________________________\n",
      "dense_1 (Dense)              (None, 1)                 33        \n",
      "_________________________________________________________________\n",
      "activation_1 (Activation)    (None, 1)                 0         \n",
      "=================================================================\n",
      "Total params: 22,689\n",
      "Trainable params: 22,689\n",
      "Non-trainable params: 0\n",
      "_________________________________________________________________\n"
     ]
    }
   ],
   "source": [
    "# Define the LSTM model\n",
    "model = Sequential()\n",
    "model.add(LSTM(32, #batch_input_shape=(batch_size, timesteps, data_dim),\n",
    "               input_shape = (timesteps,data_dim), \n",
    "               return_sequences = True))\n",
    "              #, stateful=True))\n",
    "model.add(LSTM(32, return_sequences=True))#, stateful=True))\n",
    "model.add(LSTM(32))#, stateful=True))\n",
    "model.add(Dropout(0.5))\n",
    "model.add(Dense(1))\n",
    "model.add(Activation(\"linear\"))\n",
    "model.compile(loss=\"mae\", optimizer=\"adam\")\n",
    "model.summary()"
   ]
  },
  {
   "cell_type": "markdown",
   "metadata": {},
   "source": [
    "### Fit model and plot history of loss values\n",
    "#### The loss values reflect the training set & the test set used in place as a validation set."
   ]
  },
  {
   "cell_type": "code",
   "execution_count": 24,
   "metadata": {},
   "outputs": [
    {
     "name": "stdout",
     "output_type": "stream",
     "text": [
      "Train on 52542 samples, validate on 17471 samples\n",
      "Epoch 1/30\n",
      "52542/52542 [==============================] - 279s 5ms/step - loss: 0.0556 - val_loss: 0.0161\n",
      "Epoch 2/30\n",
      "52542/52542 [==============================] - 275s 5ms/step - loss: 0.0229 - val_loss: 0.0100\n",
      "Epoch 3/30\n",
      "52542/52542 [==============================] - 276s 5ms/step - loss: 0.0209 - val_loss: 0.0118\n",
      "Epoch 4/30\n",
      "52542/52542 [==============================] - 275s 5ms/step - loss: 0.0205 - val_loss: 0.0136\n",
      "Epoch 5/30\n",
      "52542/52542 [==============================] - 277s 5ms/step - loss: 0.0202 - val_loss: 0.0092\n",
      "Epoch 6/30\n",
      "52542/52542 [==============================] - 276s 5ms/step - loss: 0.0202 - val_loss: 0.0109\n",
      "Epoch 7/30\n",
      "52542/52542 [==============================] - 277s 5ms/step - loss: 0.0200 - val_loss: 0.0120\n",
      "Epoch 8/30\n",
      "52542/52542 [==============================] - 276s 5ms/step - loss: 0.0202 - val_loss: 0.0107\n",
      "Epoch 9/30\n",
      "52542/52542 [==============================] - 277s 5ms/step - loss: 0.0199 - val_loss: 0.0092\n",
      "Epoch 10/30\n",
      "52542/52542 [==============================] - 277s 5ms/step - loss: 0.0200 - val_loss: 0.0091\n",
      "Epoch 11/30\n",
      "52542/52542 [==============================] - 277s 5ms/step - loss: 0.0199 - val_loss: 0.0102\n",
      "Epoch 12/30\n",
      "52542/52542 [==============================] - 277s 5ms/step - loss: 0.0199 - val_loss: 0.0118\n",
      "Epoch 13/30\n",
      "52542/52542 [==============================] - 277s 5ms/step - loss: 0.0201 - val_loss: 0.0100\n",
      "Epoch 14/30\n",
      "52542/52542 [==============================] - 276s 5ms/step - loss: 0.0198 - val_loss: 0.0099\n",
      "Epoch 15/30\n",
      "52542/52542 [==============================] - 276s 5ms/step - loss: 0.0198 - val_loss: 0.0090\n",
      "Epoch 16/30\n",
      "52542/52542 [==============================] - 276s 5ms/step - loss: 0.0199 - val_loss: 0.0097\n",
      "Epoch 17/30\n",
      "52542/52542 [==============================] - 277s 5ms/step - loss: 0.0196 - val_loss: 0.0086\n",
      "Epoch 18/30\n",
      "52542/52542 [==============================] - 276s 5ms/step - loss: 0.0196 - val_loss: 0.0110\n",
      "Epoch 19/30\n",
      "52542/52542 [==============================] - 277s 5ms/step - loss: 0.0195 - val_loss: 0.0082\n",
      "Epoch 20/30\n",
      "52542/52542 [==============================] - 276s 5ms/step - loss: 0.0197 - val_loss: 0.0090\n",
      "Epoch 21/30\n",
      "52542/52542 [==============================] - 277s 5ms/step - loss: 0.0197 - val_loss: 0.0082\n",
      "Epoch 22/30\n",
      "52542/52542 [==============================] - 276s 5ms/step - loss: 0.0197 - val_loss: 0.0093\n",
      "Epoch 23/30\n",
      "52542/52542 [==============================] - 276s 5ms/step - loss: 0.0197 - val_loss: 0.0113\n",
      "Epoch 24/30\n",
      "52542/52542 [==============================] - 277s 5ms/step - loss: 0.0195 - val_loss: 0.0100\n",
      "Epoch 25/30\n",
      "17088/52542 [========>.....................] - ETA: 2:53 - loss: 0.0199"
     ]
    },
    {
     "name": "stderr",
     "output_type": "stream",
     "text": [
      "IOPub message rate exceeded.\n",
      "The notebook server will temporarily stop sending output\n",
      "to the client in order to avoid crashing it.\n",
      "To change this limit, set the config variable\n",
      "`--NotebookApp.iopub_msg_rate_limit`.\n",
      "\n",
      "Current values:\n",
      "NotebookApp.iopub_msg_rate_limit=1000.0 (msgs/sec)\n",
      "NotebookApp.rate_limit_window=3.0 (secs)\n",
      "\n"
     ]
    },
    {
     "name": "stdout",
     "output_type": "stream",
     "text": [
      "52542/52542 [==============================] - 280s 5ms/step - loss: 0.0197 - val_loss: 0.0091\n",
      "Epoch 26/30\n",
      "52542/52542 [==============================] - 280s 5ms/step - loss: 0.0194 - val_loss: 0.0097\n",
      "Epoch 27/30\n",
      "52542/52542 [==============================] - 277s 5ms/step - loss: 0.0197 - val_loss: 0.0095\n",
      "Epoch 28/30\n",
      "52542/52542 [==============================] - 278s 5ms/step - loss: 0.0196 - val_loss: 0.0113\n",
      "Epoch 29/30\n",
      "52542/52542 [==============================] - 278s 5ms/step - loss: 0.0196 - val_loss: 0.0087\n",
      "Epoch 30/30\n",
      "52542/52542 [==============================] - 277s 5ms/step - loss: 0.0196 - val_loss: 0.0096\n",
      "> Compilation Time :  8309.622569084167\n"
     ]
    }
   ],
   "source": [
    "# fit model & track run time\n",
    "start = time.time()\n",
    "history = model.fit(x_train,y_train,batch_size=32,epochs=30,validation_data=(x_test,y_test))\n",
    "print(\"> Compilation Time : \", time.time() - start)"
   ]
  },
  {
   "cell_type": "code",
   "execution_count": 25,
   "metadata": {},
   "outputs": [
    {
     "data": {
      "image/png": "[encoded data removed]",
      "text/plain": [
       "<Figure size 432x288 with 1 Axes>"
      ]
     },
     "metadata": {},
     "output_type": "display_data"
    }
   ],
   "source": [
    "# plot history\n",
    "pyplot.plot(history.history['loss'], label='train')\n",
    "pyplot.plot(history.history['val_loss'], label='test')\n",
    "pyplot.legend()\n",
    "pyplot.show()"
   ]
  },
  {
   "cell_type": "markdown",
   "metadata": {},
   "source": [
    "### Forecast predications and rescale"
   ]
  },
  {
   "cell_type": "code",
   "execution_count": 26,
   "metadata": {},
   "outputs": [],
   "source": [
    "# make a forecast predication\n",
    "scaled_preds = model.predict(x_test)#, batch_size=1)\n",
    "test_X = x_test.reshape((x_test.shape[0], (x_test.shape[1]*x_test.shape[2])))"
   ]
  },
  {
   "cell_type": "code",
   "execution_count": 27,
   "metadata": {},
   "outputs": [
    {
     "data": {
      "text/plain": [
       "array([[2.5796225 ],\n",
       "       [2.33447157],\n",
       "       [2.49943003]])"
      ]
     },
     "execution_count": 27,
     "metadata": {},
     "output_type": "execute_result"
    }
   ],
   "source": [
    "# invert scaling for forecast\n",
    "preds = np.concatenate((test_X[:, :-1], scaled_preds), axis=1)\n",
    "preds = scaler.inverse_transform(preds)\n",
    "preds = preds[:,-1:]\n",
    "preds[:3]"
   ]
  },
  {
   "cell_type": "code",
   "execution_count": 28,
   "metadata": {},
   "outputs": [
    {
     "data": {
      "text/plain": [
       "array([[2.06],\n",
       "       [2.22],\n",
       "       [2.04]])"
      ]
     },
     "execution_count": 28,
     "metadata": {},
     "output_type": "execute_result"
    }
   ],
   "source": [
    "# invert scaling for actual\n",
    "test_Y = y_test\n",
    "actuals = np.concatenate((test_X[:, :-1], test_Y), axis=1)\n",
    "actuals = scaler.inverse_transform(actuals)\n",
    "actuals = actuals[:,-1:]\n",
    "actuals[:3]"
   ]
  },
  {
   "cell_type": "markdown",
   "metadata": {},
   "source": [
    "### Mean Absolute Error score\n",
    "#### This is the measure of accuracy used to evaluate the LSTM model created above."
   ]
  },
  {
   "cell_type": "code",
   "execution_count": 29,
   "metadata": {},
   "outputs": [
    {
     "data": {
      "text/plain": [
       "0.5762446176090761"
      ]
     },
     "execution_count": 29,
     "metadata": {},
     "output_type": "execute_result"
    }
   ],
   "source": [
    "mean_absolute_error(actuals, preds)"
   ]
  },
  {
   "cell_type": "markdown",
   "metadata": {},
   "source": [
    "### Prepare predications for export to csv"
   ]
  },
  {
   "cell_type": "code",
   "execution_count": 30,
   "metadata": {},
   "outputs": [],
   "source": [
    "datestest = dates[52566:]"
   ]
  },
  {
   "cell_type": "code",
   "execution_count": 31,
   "metadata": {},
   "outputs": [
    {
     "data": {
      "text/plain": [
       "70032    31.12.2016_20:00:00\n",
       "70033    31.12.2016_21:00:00\n",
       "70034    31.12.2016_22:00:00\n",
       "70035    31.12.2016_23:00:00\n",
       "70036    01.01.2017_00:00:00\n",
       "Name: Date Time, dtype: object"
      ]
     },
     "execution_count": 31,
     "metadata": {},
     "output_type": "execute_result"
    }
   ],
   "source": [
    "datestest.tail()"
   ]
  },
  {
   "cell_type": "code",
   "execution_count": 32,
   "metadata": {},
   "outputs": [],
   "source": [
    "predstemp = preds.reshape(preds.shape[0],)"
   ]
  },
  {
   "cell_type": "code",
   "execution_count": 33,
   "metadata": {},
   "outputs": [
    {
     "data": {
      "text/plain": [
       "(17471,)"
      ]
     },
     "execution_count": 33,
     "metadata": {},
     "output_type": "execute_result"
    }
   ],
   "source": [
    "predstemp.shape"
   ]
  },
  {
   "cell_type": "code",
   "execution_count": 34,
   "metadata": {},
   "outputs": [
    {
     "name": "stdout",
     "output_type": "stream",
     "text": [
      "             date_time  temperature\n",
      "0  01.01.2015_00:00:00     2.579623\n",
      "1  01.01.2015_01:00:00     2.334472\n",
      "2  01.01.2015_02:00:00     2.499430\n",
      "3  01.01.2015_03:00:00     2.284700\n",
      "4  01.01.2015_04:00:00     1.989449\n",
      "                 date_time  temperature\n",
      "17466  31.12.2016_20:00:00    -1.426295\n",
      "17467  31.12.2016_21:00:00    -1.639068\n",
      "17468  31.12.2016_22:00:00    -2.975607\n",
      "17469  31.12.2016_23:00:00    -2.174297\n",
      "17470  01.01.2017_00:00:00    -3.288306\n"
     ]
    }
   ],
   "source": [
    "f = {'date_time': datestest.values,'temperature': predstemp}\n",
    "final = pd.DataFrame(f)\n",
    "print(final.head())\n",
    "print(final.tail())"
   ]
  },
  {
   "cell_type": "code",
   "execution_count": 35,
   "metadata": {},
   "outputs": [],
   "source": [
    "final.to_csv(\"/resources/data/finalproject.csv\")"
   ]
  }
 ],
 "metadata": {
  "kernelspec": {
   "display_name": "Python 3",
   "language": "python",
   "name": "python3"
  },
  "language_info": {
   "codemirror_mode": {
    "name": "ipython",
    "version": 3
   },
   "file_extension": ".py",
   "mimetype": "text/x-python",
   "name": "python",
   "nbconvert_exporter": "python",
   "pygments_lexer": "ipython3",
   "version": "3.6.5"
  }
 },
 "nbformat": 4,
 "nbformat_minor": 2
}
